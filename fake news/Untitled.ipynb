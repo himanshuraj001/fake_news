{
 "cells": [
  {
   "cell_type": "code",
   "execution_count": 1,
   "metadata": {},
   "outputs": [],
   "source": [
    "import pandas as pd\n",
    "import numpy as np\n",
    "import itertools\n",
    "from sklearn.model_selection import train_test_split\n",
    "from sklearn.feature_extraction.text import TfidfVectorizer\n",
    "from sklearn.linear_model import PassiveAggressiveClassifier\n",
    "from sklearn.metrics import accuracy_score, confusion_matrix"
   ]
  },
  {
   "cell_type": "code",
   "execution_count": 2,
   "metadata": {},
   "outputs": [],
   "source": [
    "data=pd.read_csv(\"news.csv\")"
   ]
  },
  {
   "cell_type": "code",
   "execution_count": 3,
   "metadata": {},
   "outputs": [
    {
     "data": {
      "text/html": [
       "<div>\n",
       "<style scoped>\n",
       "    .dataframe tbody tr th:only-of-type {\n",
       "        vertical-align: middle;\n",
       "    }\n",
       "\n",
       "    .dataframe tbody tr th {\n",
       "        vertical-align: top;\n",
       "    }\n",
       "\n",
       "    .dataframe thead th {\n",
       "        text-align: right;\n",
       "    }\n",
       "</style>\n",
       "<table border=\"1\" class=\"dataframe\">\n",
       "  <thead>\n",
       "    <tr style=\"text-align: right;\">\n",
       "      <th></th>\n",
       "      <th>Unnamed: 0</th>\n",
       "      <th>title</th>\n",
       "      <th>text</th>\n",
       "      <th>label</th>\n",
       "    </tr>\n",
       "  </thead>\n",
       "  <tbody>\n",
       "    <tr>\n",
       "      <th>0</th>\n",
       "      <td>8476</td>\n",
       "      <td>You Can Smell Hillary’s Fear</td>\n",
       "      <td>Daniel Greenfield, a Shillman Journalism Fello...</td>\n",
       "      <td>FAKE</td>\n",
       "    </tr>\n",
       "    <tr>\n",
       "      <th>1</th>\n",
       "      <td>10294</td>\n",
       "      <td>Watch The Exact Moment Paul Ryan Committed Pol...</td>\n",
       "      <td>Google Pinterest Digg Linkedin Reddit Stumbleu...</td>\n",
       "      <td>FAKE</td>\n",
       "    </tr>\n",
       "    <tr>\n",
       "      <th>2</th>\n",
       "      <td>3608</td>\n",
       "      <td>Kerry to go to Paris in gesture of sympathy</td>\n",
       "      <td>U.S. Secretary of State John F. Kerry said Mon...</td>\n",
       "      <td>REAL</td>\n",
       "    </tr>\n",
       "    <tr>\n",
       "      <th>3</th>\n",
       "      <td>10142</td>\n",
       "      <td>Bernie supporters on Twitter erupt in anger ag...</td>\n",
       "      <td>— Kaydee King (@KaydeeKing) November 9, 2016 T...</td>\n",
       "      <td>FAKE</td>\n",
       "    </tr>\n",
       "    <tr>\n",
       "      <th>4</th>\n",
       "      <td>875</td>\n",
       "      <td>The Battle of New York: Why This Primary Matters</td>\n",
       "      <td>It's primary day in New York and front-runners...</td>\n",
       "      <td>REAL</td>\n",
       "    </tr>\n",
       "  </tbody>\n",
       "</table>\n",
       "</div>"
      ],
      "text/plain": [
       "   Unnamed: 0                                              title  \\\n",
       "0        8476                       You Can Smell Hillary’s Fear   \n",
       "1       10294  Watch The Exact Moment Paul Ryan Committed Pol...   \n",
       "2        3608        Kerry to go to Paris in gesture of sympathy   \n",
       "3       10142  Bernie supporters on Twitter erupt in anger ag...   \n",
       "4         875   The Battle of New York: Why This Primary Matters   \n",
       "\n",
       "                                                text label  \n",
       "0  Daniel Greenfield, a Shillman Journalism Fello...  FAKE  \n",
       "1  Google Pinterest Digg Linkedin Reddit Stumbleu...  FAKE  \n",
       "2  U.S. Secretary of State John F. Kerry said Mon...  REAL  \n",
       "3  — Kaydee King (@KaydeeKing) November 9, 2016 T...  FAKE  \n",
       "4  It's primary day in New York and front-runners...  REAL  "
      ]
     },
     "execution_count": 3,
     "metadata": {},
     "output_type": "execute_result"
    }
   ],
   "source": [
    "data.head()"
   ]
  },
  {
   "cell_type": "code",
   "execution_count": 6,
   "metadata": {},
   "outputs": [],
   "source": [
    "res=data.label"
   ]
  },
  {
   "cell_type": "code",
   "execution_count": 47,
   "metadata": {},
   "outputs": [
    {
     "data": {
      "text/plain": [
       "0       You Can Smell Hillary’s FearDaniel Greenfield,...\n",
       "1       Watch The Exact Moment Paul Ryan Committed Pol...\n",
       "2       Kerry to go to Paris in gesture of sympathyU.S...\n",
       "3       Bernie supporters on Twitter erupt in anger ag...\n",
       "4       The Battle of New York: Why This Primary Matte...\n",
       "5       Tehran, USA  \\nI’m not an immigrant, but my gr...\n",
       "6       Girl Horrified At What She Watches Boyfriend D...\n",
       "7       ‘Britain’s Schindler’ Dies at 106A Czech stock...\n",
       "8       Fact check: Trump and Clinton at the 'commande...\n",
       "9       Iran reportedly makes new push for uranium con...\n",
       "10      With all three Clintons in Iowa, a glimpse at ...\n",
       "11      Donald Trump’s Shockingly Weak Delegate Game S...\n",
       "12      Strong Solar Storm, Tech Risks Today | S0 News...\n",
       "13      10 Ways America Is Preparing for World War 3Oc...\n",
       "14      Trump takes on Cruz, but lightlyKilling Obama ...\n",
       "15      How women lead differentlyAs more women move i...\n",
       "16      Shocking! Michele Obama & Hillary Caught Glamo...\n",
       "17      Hillary Clinton in HUGE Trouble After America ...\n",
       "18      What's in that Iran bill that Obama doesn't li...\n",
       "19      The 1 chart that explains everything you need ...\n",
       "20      The slippery slope to Trump’s proposed ban on ...\n",
       "21      Episode #160 – SUNDAY WIRE: ‘Hail to the Deplo...\n",
       "22      Hillary Clinton Makes A Bipartisan Appeal on S...\n",
       "23      New Senate majority leader’s main goal for GOP...\n",
       "24      ‘Inferno’ and the Overpopulation MythMises.org...\n",
       "25      Anti-Trump forces seek last-ditch delegate rev...\n",
       "26      Sanders Trounces Clinton in W. Va. -- But Will...\n",
       "27      Donald Trump Is Changing His Campaign Slogan t...\n",
       "28      Pure chaos: Donald Trump’s campaign management...\n",
       "29      Syrian War Report – November 1, 2016: Syrian M...\n",
       "                              ...                        \n",
       "6305    Colin Kaepernick hosts ‘Know Your Rights’ camp...\n",
       "6306    Wikileaks Emails Disclose Aliens Linked to Vat...\n",
       "6307    US abstains from UN vote calling for end to Cu...\n",
       "6308    West Ham fans laud aerodynamic properties of n...\n",
       "6309    How the Obama White House runs foreign policyW...\n",
       "6310    ISIS claims responsibility for Garland, Texas,...\n",
       "6311    The “blame the left” crew: What the right’s ne...\n",
       "6312    ADHD NATION: How Big Pharma Created the ADHD E...\n",
       "6313    Donald Trump claims the election will be 'rigg...\n",
       "6314    REPORT: Dirty Reporter Blackmails Montel… Help...\n",
       "6315    Police Arrest Suspect In Charleston Church Sho...\n",
       "6316    Donald Trump’s collapse was caused by one big ...\n",
       "6317    FINA suspends Russian swimmer for 8 years over...\n",
       "6318    BREAKING : Hillary Campaign Manager Deletes hi...\n",
       "6319    Why Ted Cruz Has the Most to Lose in New Hamps...\n",
       "6320    “Nothing Good Can Come of This Election”–and T...\n",
       "6321    List of Republicans opposing Trump | OffGuardi...\n",
       "6322    Putin: Use of 'mythical' Russian military thre...\n",
       "6323    Bernie Sanders says private meeting with Pope ...\n",
       "6324    Alabama Lawmaker: Same-Sex Couples Don’t Deser...\n",
       "6325    Will the Media Reset After the Election or Are...\n",
       "6326    DOJ COMPLAINT: Comey Under Fire Over Partisan ...\n",
       "6327    GOP Senator David Perdue Jokes About Praying f...\n",
       "6328    Radio Derb Is On The Air–Leonardo And Brazil’s...\n",
       "6329    Assange claims ‘crazed’ Clinton campaign tried...\n",
       "6330    State Department says it can't find emails fro...\n",
       "6331    The ‘P’ in PBS Should Stand for ‘Plutocratic’ ...\n",
       "6332    Anti-Trump Protesters Are Tools of the Oligarc...\n",
       "6333    In Ethiopia, Obama seeks progress on peace, se...\n",
       "6334    Jeb Bush Is Suddenly Attacking Trump. Here's W...\n",
       "Length: 6335, dtype: object"
      ]
     },
     "execution_count": 47,
     "metadata": {},
     "output_type": "execute_result"
    }
   ],
   "source": [
    "newd=data.title+data.text\n",
    "newd"
   ]
  },
  {
   "cell_type": "code",
   "execution_count": 48,
   "metadata": {},
   "outputs": [],
   "source": [
    "x_train,x_test,y_train,y_test=train_test_split(data[\"text\"], res, test_size=0.2, random_state=7)"
   ]
  },
  {
   "cell_type": "code",
   "execution_count": 49,
   "metadata": {},
   "outputs": [],
   "source": [
    "tfidf_vectorizer=TfidfVectorizer(stop_words='english', max_df=0.7)\n",
    "tfidf_train=tfidf_vectorizer.fit_transform(x_train) \n",
    "tfidf_test=tfidf_vectorizer.transform(x_test)"
   ]
  },
  {
   "cell_type": "code",
   "execution_count": 50,
   "metadata": {},
   "outputs": [],
   "source": [
    "k=tfidf_vectorizer.get_feature_names()"
   ]
  },
  {
   "cell_type": "code",
   "execution_count": null,
   "metadata": {},
   "outputs": [],
   "source": []
  },
  {
   "cell_type": "code",
   "execution_count": 52,
   "metadata": {},
   "outputs": [
    {
     "data": {
      "text/plain": [
       "(1267, 61651)"
      ]
     },
     "execution_count": 52,
     "metadata": {},
     "output_type": "execute_result"
    }
   ],
   "source": [
    "tfidf_test.shape"
   ]
  },
  {
   "cell_type": "code",
   "execution_count": 53,
   "metadata": {},
   "outputs": [],
   "source": [
    "from sklearn import tree"
   ]
  },
  {
   "cell_type": "code",
   "execution_count": 54,
   "metadata": {},
   "outputs": [],
   "source": [
    "clf = tree.DecisionTreeClassifier()\n",
    "clf = clf.fit(tfidf_train, y_train)"
   ]
  },
  {
   "cell_type": "code",
   "execution_count": 55,
   "metadata": {},
   "outputs": [],
   "source": [
    "pred=clf.predict(tfidf_test)"
   ]
  },
  {
   "cell_type": "code",
   "execution_count": 56,
   "metadata": {},
   "outputs": [],
   "source": [
    "score=accuracy_score(y_test,pred)"
   ]
  },
  {
   "cell_type": "code",
   "execution_count": 57,
   "metadata": {},
   "outputs": [
    {
     "data": {
      "text/plain": [
       "0.797947908445146"
      ]
     },
     "execution_count": 57,
     "metadata": {},
     "output_type": "execute_result"
    }
   ],
   "source": [
    "score"
   ]
  },
  {
   "cell_type": "code",
   "execution_count": 59,
   "metadata": {},
   "outputs": [
    {
     "data": {
      "text/plain": [
       "0.9265982636148382"
      ]
     },
     "execution_count": 59,
     "metadata": {},
     "output_type": "execute_result"
    }
   ],
   "source": [
    "## passive classifier\n",
    "pac=PassiveAggressiveClassifier(max_iter=50)\n",
    "pac.fit(tfidf_train,y_train)\n",
    "\n",
    "y_pred=pac.predict(tfidf_test)\n",
    "score=accuracy_score(y_test,y_pred)\n",
    "score"
   ]
  },
  {
   "cell_type": "code",
   "execution_count": 79,
   "metadata": {},
   "outputs": [],
   "source": [
    "x_train,x_test,y_train,y_test=train_test_split(newd, res, test_size=0.2, random_state=7)"
   ]
  },
  {
   "cell_type": "code",
   "execution_count": 75,
   "metadata": {},
   "outputs": [],
   "source": [
    "tfidf_vectorizer=TfidfVectorizer(stop_words='english', max_df=0.7)\n",
    "tfidf_train=tfidf_vectorizer.fit_transform(x_train) \n",
    "tfidf_test=tfidf_vectorizer.transform(x_test)"
   ]
  },
  {
   "cell_type": "code",
   "execution_count": 68,
   "metadata": {},
   "outputs": [
    {
     "data": {
      "text/plain": [
       "(5068, 65348)"
      ]
     },
     "execution_count": 68,
     "metadata": {},
     "output_type": "execute_result"
    }
   ],
   "source": [
    "tfidf_train.shape"
   ]
  },
  {
   "cell_type": "code",
   "execution_count": 63,
   "metadata": {},
   "outputs": [],
   "source": [
    "clf = tree.DecisionTreeClassifier()\n",
    "clf = clf.fit(tfidf_train, y_train)"
   ]
  },
  {
   "cell_type": "code",
   "execution_count": 65,
   "metadata": {},
   "outputs": [
    {
     "data": {
      "text/plain": [
       "0.8011049723756906"
      ]
     },
     "execution_count": 65,
     "metadata": {},
     "output_type": "execute_result"
    }
   ],
   "source": [
    "pred=clf.predict(tfidf_test)\n",
    "score=accuracy_score(y_test,pred)\n",
    "score"
   ]
  },
  {
   "cell_type": "code",
   "execution_count": 66,
   "metadata": {},
   "outputs": [
    {
     "data": {
      "text/plain": [
       "0.9210734017363852"
      ]
     },
     "execution_count": 66,
     "metadata": {},
     "output_type": "execute_result"
    }
   ],
   "source": [
    "## passive classifier\n",
    "pac=PassiveAggressiveClassifier(max_iter=50)\n",
    "pac.fit(tfidf_train,y_train)\n",
    "\n",
    "y_pred=pac.predict(tfidf_test)\n",
    "score=accuracy_score(y_test,y_pred)\n",
    "score"
   ]
  },
  {
   "cell_type": "code",
   "execution_count": null,
   "metadata": {},
   "outputs": [],
   "source": [
    "#neural classifier"
   ]
  },
  {
   "cell_type": "code",
   "execution_count": 130,
   "metadata": {},
   "outputs": [],
   "source": [
    "x_train,x_test,y_train,y_test=train_test_split(newd, res, test_size=0.2, random_state=7)"
   ]
  },
  {
   "cell_type": "code",
   "execution_count": 131,
   "metadata": {},
   "outputs": [],
   "source": [
    "tfidf_vectorizer=TfidfVectorizer(stop_words='english', max_df=0.7)\n",
    "tfidf_train=tfidf_vectorizer.fit_transform(x_train) \n",
    "tfidf_test=tfidf_vectorizer.transform(x_test)"
   ]
  },
  {
   "cell_type": "code",
   "execution_count": 132,
   "metadata": {},
   "outputs": [
    {
     "data": {
      "text/plain": [
       "(5068, 65348)"
      ]
     },
     "execution_count": 132,
     "metadata": {},
     "output_type": "execute_result"
    }
   ],
   "source": [
    "tfidf_train.shape"
   ]
  },
  {
   "cell_type": "code",
   "execution_count": 133,
   "metadata": {},
   "outputs": [
    {
     "data": {
      "text/plain": [
       "array([1, 0, 1, ..., 1, 0, 1])"
      ]
     },
     "execution_count": 133,
     "metadata": {},
     "output_type": "execute_result"
    }
   ],
   "source": [
    "from sklearn.preprocessing import LabelEncoder\n",
    "lb=LabelEncoder()\n",
    "y_train=lb.fit_transform(y_train)\n",
    "y_test=lb.fit_transform(y_test)\n",
    "y_test"
   ]
  },
  {
   "cell_type": "code",
   "execution_count": 134,
   "metadata": {},
   "outputs": [],
   "source": [
    "from keras.models import Sequential\n",
    "from keras.layers import Dense\n",
    "from keras.layers import Dropout"
   ]
  },
  {
   "cell_type": "code",
   "execution_count": 135,
   "metadata": {},
   "outputs": [],
   "source": [
    "model = Sequential()\n",
    "model.add(Dense(132, input_dim=65348, activation='relu'))\n",
    "model.add(Dropout(0.25))\n",
    "model.add(Dense(64, activation='relu'))\n",
    "model.add(Dropout(0.25))\n",
    "model.add(Dense(32, activation='relu'))\n",
    "model.add(Dropout(0.25))\n",
    "model.add(Dense(16, activation='relu'))\n",
    "model.add(Dropout(0.25))\n",
    "model.add(Dense(8, activation='relu'))\n",
    "model.add(Dropout(0.25))\n",
    "model.add(Dense(4, activation='relu'))\n",
    "model.add(Dropout(0.25))\n",
    "model.add(Dense(1, activation='sigmoid'))"
   ]
  },
  {
   "cell_type": "code",
   "execution_count": 136,
   "metadata": {},
   "outputs": [],
   "source": [
    "model.compile(loss='binary_crossentropy', optimizer='adam', metrics=['accuracy'])"
   ]
  },
  {
   "cell_type": "code",
   "execution_count": 137,
   "metadata": {},
   "outputs": [
    {
     "name": "stdout",
     "output_type": "stream",
     "text": [
      "Epoch 1/15\n",
      "5068/5068 [==============================] - 13s 3ms/step - loss: 0.4624 - acc: 0.7459\n",
      "Epoch 2/15\n",
      "5068/5068 [==============================] - 12s 2ms/step - loss: 0.2416 - acc: 0.9084\n",
      "Epoch 3/15\n",
      "5068/5068 [==============================] - 12s 2ms/step - loss: 0.1640 - acc: 0.9501\n",
      "Epoch 4/15\n",
      "5068/5068 [==============================] - 12s 2ms/step - loss: 0.1248 - acc: 0.9599\n",
      "Epoch 5/15\n",
      "5068/5068 [==============================] - 13s 2ms/step - loss: 0.0996 - acc: 0.9639\n",
      "Epoch 6/15\n",
      "5068/5068 [==============================] - 12s 2ms/step - loss: 0.0918 - acc: 0.9692\n",
      "Epoch 7/15\n",
      "5068/5068 [==============================] - 12s 2ms/step - loss: 0.0936 - acc: 0.9732\n",
      "Epoch 8/15\n",
      "5068/5068 [==============================] - 13s 3ms/step - loss: 0.0624 - acc: 0.9844\n",
      "Epoch 9/15\n",
      "5068/5068 [==============================] - 12s 2ms/step - loss: 0.0645 - acc: 0.9846\n",
      "Epoch 10/15\n",
      "5068/5068 [==============================] - 13s 2ms/step - loss: 0.0536 - acc: 0.9872\n",
      "Epoch 11/15\n",
      "5068/5068 [==============================] - 13s 3ms/step - loss: 0.0453 - acc: 0.9876\n",
      "Epoch 12/15\n",
      "5068/5068 [==============================] - 12s 2ms/step - loss: 0.0389 - acc: 0.9903\n",
      "Epoch 13/15\n",
      "5068/5068 [==============================] - 13s 2ms/step - loss: 0.0425 - acc: 0.9901\n",
      "Epoch 14/15\n",
      "5068/5068 [==============================] - 13s 2ms/step - loss: 0.0462 - acc: 0.9872\n",
      "Epoch 15/15\n",
      "5068/5068 [==============================] - 12s 2ms/step - loss: 0.0391 - acc: 0.9895\n"
     ]
    },
    {
     "data": {
      "text/plain": [
       "<keras.callbacks.History at 0x19a9806ef60>"
      ]
     },
     "execution_count": 137,
     "metadata": {},
     "output_type": "execute_result"
    }
   ],
   "source": [
    "model.fit(tfidf_train, y_train, epochs=15, batch_size=10)"
   ]
  },
  {
   "cell_type": "code",
   "execution_count": 138,
   "metadata": {},
   "outputs": [
    {
     "data": {
      "text/plain": [
       "array([[1],\n",
       "       [0],\n",
       "       [1],\n",
       "       ...,\n",
       "       [1],\n",
       "       [0],\n",
       "       [1]])"
      ]
     },
     "execution_count": 138,
     "metadata": {},
     "output_type": "execute_result"
    }
   ],
   "source": [
    "predict=model.predict_classes(tfidf_test)\n",
    "predict"
   ]
  },
  {
   "cell_type": "code",
   "execution_count": 140,
   "metadata": {},
   "outputs": [
    {
     "data": {
      "text/plain": [
       "0.920284135753749"
      ]
     },
     "execution_count": 140,
     "metadata": {},
     "output_type": "execute_result"
    }
   ],
   "source": [
    "score=accuracy_score(y_test,predict)\n",
    "score"
   ]
  },
  {
   "cell_type": "code",
   "execution_count": 142,
   "metadata": {},
   "outputs": [
    {
     "data": {
      "text/plain": [
       "(5068, 61651)"
      ]
     },
     "execution_count": 142,
     "metadata": {},
     "output_type": "execute_result"
    }
   ],
   "source": [
    "#neural alone with title\n",
    "x_train,x_test,y_train,y_test=train_test_split(data[\"text\"], res, test_size=0.2, random_state=7)\n",
    "tfidf_vectorizer=TfidfVectorizer(stop_words='english', max_df=0.7)\n",
    "tfidf_train=tfidf_vectorizer.fit_transform(x_train) \n",
    "tfidf_test=tfidf_vectorizer.transform(x_test)\n",
    "tfidf_train.shape"
   ]
  },
  {
   "cell_type": "code",
   "execution_count": 143,
   "metadata": {},
   "outputs": [
    {
     "data": {
      "text/plain": [
       "array([1, 0, 1, ..., 1, 0, 1])"
      ]
     },
     "execution_count": 143,
     "metadata": {},
     "output_type": "execute_result"
    }
   ],
   "source": [
    "from sklearn.preprocessing import LabelEncoder\n",
    "lb=LabelEncoder()\n",
    "y_train=lb.fit_transform(y_train)\n",
    "y_test=lb.fit_transform(y_test)\n",
    "y_test"
   ]
  },
  {
   "cell_type": "code",
   "execution_count": 144,
   "metadata": {},
   "outputs": [],
   "source": [
    "model = Sequential()\n",
    "model.add(Dense(132, input_dim=61651, activation='relu'))\n",
    "model.add(Dropout(0.25))\n",
    "model.add(Dense(64, activation='relu'))\n",
    "model.add(Dropout(0.25))\n",
    "model.add(Dense(32, activation='relu'))\n",
    "model.add(Dropout(0.25))\n",
    "model.add(Dense(16, activation='relu'))\n",
    "model.add(Dropout(0.25))\n",
    "model.add(Dense(8, activation='relu'))\n",
    "model.add(Dropout(0.25))\n",
    "model.add(Dense(4, activation='relu'))\n",
    "model.add(Dropout(0.25))\n",
    "model.add(Dense(1, activation='sigmoid'))"
   ]
  },
  {
   "cell_type": "code",
   "execution_count": 145,
   "metadata": {},
   "outputs": [],
   "source": [
    "model.compile(loss='binary_crossentropy', optimizer='adam', metrics=['accuracy'])"
   ]
  },
  {
   "cell_type": "code",
   "execution_count": 146,
   "metadata": {},
   "outputs": [
    {
     "name": "stdout",
     "output_type": "stream",
     "text": [
      "Epoch 1/15\n",
      "5068/5068 [==============================] - 7s 1ms/step - loss: 0.5939 - acc: 0.6529\n",
      "Epoch 2/15\n",
      "5068/5068 [==============================] - 5s 1ms/step - loss: 0.3404 - acc: 0.8279\n",
      "Epoch 3/15\n",
      "5068/5068 [==============================] - 5s 1ms/step - loss: 0.2235 - acc: 0.8917\n",
      "Epoch 4/15\n",
      "5068/5068 [==============================] - 5s 1ms/step - loss: 0.1476 - acc: 0.9453\n",
      "Epoch 5/15\n",
      "5068/5068 [==============================] - 5s 1ms/step - loss: 0.1236 - acc: 0.9548\n",
      "Epoch 6/15\n",
      "5068/5068 [==============================] - 5s 1ms/step - loss: 0.1161 - acc: 0.9596\n",
      "Epoch 7/15\n",
      "5068/5068 [==============================] - 5s 1ms/step - loss: 0.1105 - acc: 0.9572\n",
      "Epoch 8/15\n",
      "5068/5068 [==============================] - 5s 1ms/step - loss: 0.1132 - acc: 0.9572\n",
      "Epoch 9/15\n",
      "5068/5068 [==============================] - 5s 1ms/step - loss: 0.1068 - acc: 0.9572\n",
      "Epoch 10/15\n",
      "5068/5068 [==============================] - 5s 1ms/step - loss: 0.1046 - acc: 0.9597\n",
      "Epoch 11/15\n",
      "5068/5068 [==============================] - 5s 1ms/step - loss: 0.1069 - acc: 0.9590\n",
      "Epoch 12/15\n",
      "5068/5068 [==============================] - 5s 1ms/step - loss: 0.1002 - acc: 0.9597\n",
      "Epoch 13/15\n",
      "5068/5068 [==============================] - 5s 1ms/step - loss: 0.1021 - acc: 0.9572\n",
      "Epoch 14/15\n",
      "5068/5068 [==============================] - 5s 1ms/step - loss: 0.0993 - acc: 0.9582\n",
      "Epoch 15/15\n",
      "5068/5068 [==============================] - 5s 1ms/step - loss: 0.0932 - acc: 0.9609\n"
     ]
    },
    {
     "data": {
      "text/plain": [
       "<keras.callbacks.History at 0x19b8a9dec88>"
      ]
     },
     "execution_count": 146,
     "metadata": {},
     "output_type": "execute_result"
    }
   ],
   "source": [
    "model.fit(tfidf_train, y_train, epochs=15, batch_size=30)"
   ]
  },
  {
   "cell_type": "code",
   "execution_count": 148,
   "metadata": {},
   "outputs": [
    {
     "data": {
      "text/plain": [
       "array([[1],\n",
       "       [0],\n",
       "       [1],\n",
       "       ...,\n",
       "       [1],\n",
       "       [0],\n",
       "       [1]])"
      ]
     },
     "execution_count": 148,
     "metadata": {},
     "output_type": "execute_result"
    }
   ],
   "source": [
    "predict=model.predict_classes(tfidf_test)\n",
    "predict"
   ]
  },
  {
   "cell_type": "code",
   "execution_count": 149,
   "metadata": {},
   "outputs": [
    {
     "data": {
      "text/plain": [
       "0.9281767955801105"
      ]
     },
     "execution_count": 149,
     "metadata": {},
     "output_type": "execute_result"
    }
   ],
   "source": [
    "score=accuracy_score(y_test,predict)\n",
    "score"
   ]
  },
  {
   "cell_type": "code",
   "execution_count": 150,
   "metadata": {},
   "outputs": [
    {
     "name": "stdout",
     "output_type": "stream",
     "text": [
      "Epoch 1/15\n",
      "5068/5068 [==============================] - 21s 4ms/step - loss: 0.0997 - acc: 0.9615\n",
      "Epoch 2/15\n",
      "5068/5068 [==============================] - 21s 4ms/step - loss: 0.0987 - acc: 0.9588\n",
      "Epoch 3/15\n",
      "5068/5068 [==============================] - 21s 4ms/step - loss: 0.1002 - acc: 0.9594\n",
      "Epoch 4/15\n",
      "5068/5068 [==============================] - 22s 4ms/step - loss: 0.0902 - acc: 0.9615\n",
      "Epoch 5/15\n",
      "5068/5068 [==============================] - 21s 4ms/step - loss: 0.0898 - acc: 0.9639\n",
      "Epoch 6/15\n",
      "5068/5068 [==============================] - 21s 4ms/step - loss: 0.0919 - acc: 0.9635\n",
      "Epoch 7/15\n",
      "5068/5068 [==============================] - 21s 4ms/step - loss: 0.0849 - acc: 0.9653\n",
      "Epoch 8/15\n",
      "5068/5068 [==============================] - 21s 4ms/step - loss: 0.0760 - acc: 0.9722\n",
      "Epoch 9/15\n",
      "5068/5068 [==============================] - 21s 4ms/step - loss: 0.0850 - acc: 0.9667\n",
      "Epoch 10/15\n",
      "5068/5068 [==============================] - 21s 4ms/step - loss: 0.0805 - acc: 0.9678\n",
      "Epoch 11/15\n",
      "5068/5068 [==============================] - 21s 4ms/step - loss: 0.0785 - acc: 0.9692\n",
      "Epoch 12/15\n",
      "5068/5068 [==============================] - 21s 4ms/step - loss: 0.0903 - acc: 0.9617\n",
      "Epoch 13/15\n",
      "5068/5068 [==============================] - 21s 4ms/step - loss: 0.0923 - acc: 0.9659\n",
      "Epoch 14/15\n",
      "5068/5068 [==============================] - 21s 4ms/step - loss: 0.0915 - acc: 0.9619\n",
      "Epoch 15/15\n",
      "5068/5068 [==============================] - 21s 4ms/step - loss: 0.0861 - acc: 0.9651\n"
     ]
    },
    {
     "data": {
      "text/plain": [
       "<keras.callbacks.History at 0x19b979dd080>"
      ]
     },
     "execution_count": 150,
     "metadata": {},
     "output_type": "execute_result"
    }
   ],
   "source": [
    "##trying another model\n",
    "model.fit(tfidf_train, y_train, epochs=15, batch_size=5)"
   ]
  },
  {
   "cell_type": "code",
   "execution_count": 151,
   "metadata": {},
   "outputs": [
    {
     "data": {
      "text/plain": [
       "array([[1],\n",
       "       [0],\n",
       "       [1],\n",
       "       ...,\n",
       "       [1],\n",
       "       [0],\n",
       "       [1]])"
      ]
     },
     "execution_count": 151,
     "metadata": {},
     "output_type": "execute_result"
    }
   ],
   "source": [
    "predict=model.predict_classes(tfidf_test)\n",
    "predict"
   ]
  },
  {
   "cell_type": "code",
   "execution_count": 152,
   "metadata": {},
   "outputs": [
    {
     "data": {
      "text/plain": [
       "0.9250197316495659"
      ]
     },
     "execution_count": 152,
     "metadata": {},
     "output_type": "execute_result"
    }
   ],
   "source": [
    "score=accuracy_score(y_test,predict)\n",
    "score"
   ]
  },
  {
   "cell_type": "code",
   "execution_count": null,
   "metadata": {},
   "outputs": [],
   "source": []
  }
 ],
 "metadata": {
  "kernelspec": {
   "display_name": "Python 3",
   "language": "python",
   "name": "python3"
  },
  "language_info": {
   "codemirror_mode": {
    "name": "ipython",
    "version": 3
   },
   "file_extension": ".py",
   "mimetype": "text/x-python",
   "name": "python",
   "nbconvert_exporter": "python",
   "pygments_lexer": "ipython3",
   "version": "3.7.3"
  }
 },
 "nbformat": 4,
 "nbformat_minor": 2
}
